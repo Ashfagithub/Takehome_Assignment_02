{
 "cells": [
  {
   "cell_type": "code",
   "execution_count": 3,
   "id": "217b3fa8",
   "metadata": {},
   "outputs": [],
   "source": []
  },
  {
   "cell_type": "code",
   "execution_count": 21,
   "id": "41eb3564",
   "metadata": {},
   "outputs": [
    {
     "data": {
      "text/plain": [
       "Text(0.5, 1.0, 'Binary Image')"
      ]
     },
     "execution_count": 21,
     "metadata": {},
     "output_type": "execute_result"
    },
    {
     "data": {
      "image/png": "[encoded data removed]",
      "text/plain": [
       "<Figure size 640x480 with 2 Axes>"
      ]
     },
     "metadata": {},
     "output_type": "display_data"
    }
   ],
   "source": [
    "import numpy as np\n",
    "from skimage.filters import threshold_otsu\n",
    "from skimage.util import random_noise\n",
    "import matplotlib.pyplot as plt\n",
    "\n",
    "# Create a 3x3 image with two objects and Gaussian noise\n",
    "imgg = np.array([[0, 1, 0], [0, 1, 0], [0, 0, 0]])\n",
    "img = random_noise(imgg, mode='gaussian')\n",
    "\n",
    "# Apply Otsu's thresholding\n",
    "thresh = threshold_otsu(img)\n",
    "\n",
    "# Create a binary mask based on the threshold\n",
    "binary_img= img >= thresh\n",
    "\n",
    "\n",
    "\n",
    "fig,arr1= plt.subplots(1,2)\n",
    "arr1[0].imshow(imgg)\n",
    "arr1[0].set_title('original')\n",
    "\n",
    "arr1[1].imshow(binary_img)\n",
    "arr1[1].set_title('Binary Image')\n"
   ]
  },
  {
   "cell_type": "code",
   "execution_count": null,
   "id": "662f95ae",
   "metadata": {},
   "outputs": [],
   "source": []
  },
  {
   "cell_type": "code",
   "execution_count": 18,
   "id": "a3022a2f",
   "metadata": {
    "scrolled": true
   },
   "outputs": [
    {
     "data": {
      "text/plain": [
       "Text(0.5, 1.0, 'Binary Image')"
      ]
     },
     "execution_count": 18,
     "metadata": {},
     "output_type": "execute_result"
    },
    {
     "data": {
      "image/png": "[encoded data removed]",
      "text/plain": [
       "<Figure size 640x480 with 3 Axes>"
      ]
     },
     "metadata": {},
     "output_type": "display_data"
    }
   ],
   "source": [
    "import cv2\n",
    "import numpy as np\n",
    "import matplotlib.pyplot as plt\n",
    "\n",
    "\n",
    "def otsu_threshold(image):\n",
    "    hist, bins = np.histogram(image, bins=range(257))\n",
    "    prob = hist / float(np.sum(hist))\n",
    "    \n",
    "    cum_sum = np.cumsum(prob)\n",
    "    cum_mean = np.cumsum(prob * np.arange(256))\n",
    "    \n",
    "    global_mean = cum_mean[-1]\n",
    "    \n",
    "    threshold_values = range(1, 256)\n",
    "    between_class_variances = np.zeros(len(threshold_values))\n",
    "    \n",
    "    for i, threshold in enumerate(threshold_values):\n",
    "        class_prob1 = cum_sum[threshold]\n",
    "        class_prob2 = 1.0 - class_prob1\n",
    "        class_mean1 = cum_mean[threshold] / class_prob1\n",
    "        class_mean2 = (global_mean - cum_mean[threshold]) / class_prob2\n",
    "        \n",
    "        between_class_variances[i] = class_prob1 * class_prob2 * (class_mean1 - class_mean2) ** 2\n",
    "    \n",
    "\n",
    "    optimal_threshold = threshold_values[np.argmax(between_class_variances)]\n",
    "    \n",
    "\n",
    "    thresholded_image = np.zeros_like(image)\n",
    "    thresholded_image[image >= optimal_threshold] = 1\n",
    "    \n",
    "    return thresholded_image\n",
    "\n",
    "def add_gaussian_noise(image, mean=0, std_dev=1):\n",
    "    \n",
    "    noise = np.random.normal(mean, std_dev, image.shape)\n",
    "    \n",
    "    noisy_image = image + noise\n",
    "    \n",
    "    noisy_image = np.clip(noisy_image, 0, 255).astype(np.uint8)\n",
    "    \n",
    "    return noisy_image\n",
    "\n",
    "\n",
    "\n",
    "image = np.zeros((3, 3), dtype=np.uint8)\n",
    "image[1, 1] = 1\n",
    "image[1, 0] = 1\n",
    "noisy_image = add_gaussian_noise(image, mean=0, std_dev=50)\n",
    "\n",
    "# Threshold noisy image \n",
    "thresholded_image = otsu_threshold(noisy_image)\n",
    "\n",
    "# Display original, noisy, and thresholded images\n",
    "\n",
    "fig,arr1= plt.subplots(1,3)\n",
    "arr1[0].imshow(image)\n",
    "arr1[0].set_title('original')\n",
    "\n",
    "arr1[1].imshow(noisy_image, cmap='gray')\n",
    "arr1[1].set_title('Noisy Image')\n",
    "\n",
    "arr1[2].imshow(thresholded_image, cmap='gray')\n",
    "arr1[2].set_title('Binary Image')\n",
    "\n"
   ]
  },
  {
   "cell_type": "code",
   "execution_count": null,
   "id": "fdc100dc",
   "metadata": {},
   "outputs": [],
   "source": []
  },
  {
   "cell_type": "code",
   "execution_count": null,
   "id": "000f90a1",
   "metadata": {},
   "outputs": [],
   "source": []
  }
 ],
 "metadata": {
  "kernelspec": {
   "display_name": "Python 3 (ipykernel)",
   "language": "python",
   "name": "python3"
  },
  "language_info": {
   "codemirror_mode": {
    "name": "ipython",
    "version": 3
   },
   "file_extension": ".py",
   "mimetype": "text/x-python",
   "name": "python",
   "nbconvert_exporter": "python",
   "pygments_lexer": "ipython3",
   "version": "3.9.13"
  }
 },
 "nbformat": 4,
 "nbformat_minor": 5
}
